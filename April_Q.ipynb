{
 "cells": [
  {
   "cell_type": "code",
   "execution_count": null,
   "metadata": {},
   "outputs": [],
   "source": []
  },
  {
   "cell_type": "markdown",
   "metadata": {},
   "source": [
    "Write a function that can take in a text file and return the number of characters in the file categorized by:\n",
    "\n",
    "alphabetic\n",
    "numeric\n",
    "other non space characters\n",
    "\n",
    "The input to the function will be a text file (you can assume we scane the whole file). To help with this question, here is an example text file that we'll be using in our solution. For an additional hint, see this webpage.\n",
    "\n",
    "https://u4221007.ct.sendgrid.net/ls/click?upn=qwT-2Bl0U064-2B7oRNpPgUya8GjH-2BHfJcP4935QwszXa5kUJf9dBc8t3K6Zqzay9N-2FAv8-2BO-2FONr81BFIsozOiK6vpWuMMD1O9nMcOkj-2FG3ODMs-3DxBSK_KcahIB7nYcfkUe6i5oRVK5zAflPxK9QLuEAavdBgKL5m0prGN4UeLoq4PM6Y8iQ79yKCSMrMaSIYJGRK5p0esGaXKlQr9DI1yFX6Tm7ICXay8JAmLCCXDDJKDvoyIVDkke-2FEE69ZZZ5zRNEtrK7TVzOLIwP0FK3mUyZdNgKB82OzB76Uhk9BWILqEJiemkZEGk6GqGbADP3IdGc4I48HSELfW8RFkVi7euo0v9y7Nc8-3D"
   ]
  },
  {
   "cell_type": "code",
   "execution_count": null,
   "metadata": {},
   "outputs": [],
   "source": []
  },
  {
   "cell_type": "markdown",
   "metadata": {},
   "source": [
    "Suppose you're analyzing a population of 100,000 people, and you're trying to understand life expectancy. Within this population of 100,000 people, 65% can expect to live to the age of 70, while 25% can expect to live to age 80.\n",
    "\n",
    "Given that a person is already 70, what is the probability that they live to the age 80?\n",
    "\n",
    "Hint: think about conditional probability theory when solving this one."
   ]
  },
  {
   "cell_type": "code",
   "execution_count": null,
   "metadata": {},
   "outputs": [],
   "source": []
  },
  {
   "cell_type": "markdown",
   "metadata": {},
   "source": [
    "## Reverse It\n",
    "\n",
    "Suppose you're given an array of strings, s. Write a function using Python to take each string in the array and reverse it."
   ]
  },
  {
   "cell_type": "code",
   "execution_count": 27,
   "metadata": {},
   "outputs": [],
   "source": [
    "def reverse_that_string(arr):\n",
    "    return [s[::-1] for s in arr]\n",
    "\n",
    "def reverse_this_string(arr):\n",
    "    return [''.join(reversed(s)) for s in arr]\n",
    "\n",
    "silly_string = ['wee', 'woo', 'hee', 'hoo']"
   ]
  },
  {
   "cell_type": "code",
   "execution_count": 28,
   "metadata": {},
   "outputs": [
    {
     "data": {
      "text/plain": [
       "['eew', 'oow', 'eeh', 'ooh']"
      ]
     },
     "execution_count": 28,
     "metadata": {},
     "output_type": "execute_result"
    }
   ],
   "source": [
    "reverse_that_string(silly_string)"
   ]
  },
  {
   "cell_type": "code",
   "execution_count": 29,
   "metadata": {
    "scrolled": true
   },
   "outputs": [
    {
     "data": {
      "text/plain": [
       "['eew', 'oow', 'eeh', 'ooh']"
      ]
     },
     "execution_count": 29,
     "metadata": {},
     "output_type": "execute_result"
    }
   ],
   "source": [
    "reverse_this_string(silly_string)"
   ]
  },
  {
   "cell_type": "code",
   "execution_count": 25,
   "metadata": {},
   "outputs": [
    {
     "data": {
      "text/plain": [
       "'gnirts'"
      ]
     },
     "execution_count": 25,
     "metadata": {},
     "output_type": "execute_result"
    }
   ],
   "source": []
  },
  {
   "cell_type": "code",
   "execution_count": null,
   "metadata": {},
   "outputs": [],
   "source": []
  }
 ],
 "metadata": {
  "kernelspec": {
   "display_name": "Python 3",
   "language": "python",
   "name": "python3"
  },
  "language_info": {
   "codemirror_mode": {
    "name": "ipython",
    "version": 3
   },
   "file_extension": ".py",
   "mimetype": "text/x-python",
   "name": "python",
   "nbconvert_exporter": "python",
   "pygments_lexer": "ipython3",
   "version": "3.7.1"
  }
 },
 "nbformat": 4,
 "nbformat_minor": 2
}
