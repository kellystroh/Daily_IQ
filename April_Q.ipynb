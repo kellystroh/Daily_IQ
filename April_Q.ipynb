{
 "cells": [
  {
   "cell_type": "code",
   "execution_count": null,
   "metadata": {},
   "outputs": [],
   "source": []
  },
  {
   "cell_type": "code",
   "execution_count": 4,
   "metadata": {},
   "outputs": [],
   "source": [
    "import numpy as np \n",
    "import pandas as pd"
   ]
  },
  {
   "cell_type": "code",
   "execution_count": null,
   "metadata": {},
   "outputs": [],
   "source": []
  },
  {
   "cell_type": "markdown",
   "metadata": {},
   "source": [
    "Write a function that can take in a text file and return the number of characters in the file categorized by:\n",
    "\n",
    "alphabetic\n",
    "numeric\n",
    "other non space characters\n",
    "\n",
    "The input to the function will be a text file (you can assume we scane the whole file). To help with this question, here is an example text file that we'll be using in our solution. For an additional hint, see this webpage.\n",
    "\n",
    "https://u4221007.ct.sendgrid.net/ls/click?upn=qwT-2Bl0U064-2B7oRNpPgUya8GjH-2BHfJcP4935QwszXa5kUJf9dBc8t3K6Zqzay9N-2FAv8-2BO-2FONr81BFIsozOiK6vpWuMMD1O9nMcOkj-2FG3ODMs-3DxBSK_KcahIB7nYcfkUe6i5oRVK5zAflPxK9QLuEAavdBgKL5m0prGN4UeLoq4PM6Y8iQ79yKCSMrMaSIYJGRK5p0esGaXKlQr9DI1yFX6Tm7ICXay8JAmLCCXDDJKDvoyIVDkke-2FEE69ZZZ5zRNEtrK7TVzOLIwP0FK3mUyZdNgKB82OzB76Uhk9BWILqEJiemkZEGk6GqGbADP3IdGc4I48HSELfW8RFkVi7euo0v9y7Nc8-3D"
   ]
  },
  {
   "cell_type": "code",
   "execution_count": null,
   "metadata": {},
   "outputs": [],
   "source": []
  },
  {
   "cell_type": "markdown",
   "metadata": {},
   "source": [
    "Suppose you're analyzing a population of 100,000 people, and you're trying to understand life expectancy. Within this population of 100,000 people, 65% can expect to live to the age of 70, while 25% can expect to live to age 80.\n",
    "\n",
    "Given that a person is already 70, what is the probability that they live to the age 80?\n",
    "\n",
    "Hint: think about conditional probability theory when solving this one."
   ]
  },
  {
   "cell_type": "markdown",
   "metadata": {},
   "source": [
    "## <span style=\"color:teal\">Python</span>"
   ]
  },
  {
   "cell_type": "markdown",
   "metadata": {},
   "source": [
    "### Reverse It\n",
    "\n",
    "Suppose you're given an array of strings, s. Write a function using Python to take each string in the array and reverse it."
   ]
  },
  {
   "cell_type": "code",
   "execution_count": 27,
   "metadata": {},
   "outputs": [],
   "source": [
    "def reverse_that_string(arr):\n",
    "    return [s[::-1] for s in arr]\n",
    "\n",
    "def reverse_this_string(arr):\n",
    "    return [''.join(reversed(s)) for s in arr]\n",
    "\n",
    "silly_string = ['wee', 'woo', 'hee', 'hoo']"
   ]
  },
  {
   "cell_type": "code",
   "execution_count": 28,
   "metadata": {},
   "outputs": [
    {
     "data": {
      "text/plain": [
       "['eew', 'oow', 'eeh', 'ooh']"
      ]
     },
     "execution_count": 28,
     "metadata": {},
     "output_type": "execute_result"
    }
   ],
   "source": [
    "reverse_that_string(silly_string)"
   ]
  },
  {
   "cell_type": "code",
   "execution_count": 29,
   "metadata": {
    "scrolled": true
   },
   "outputs": [
    {
     "data": {
      "text/plain": [
       "['eew', 'oow', 'eeh', 'ooh']"
      ]
     },
     "execution_count": 29,
     "metadata": {},
     "output_type": "execute_result"
    }
   ],
   "source": [
    "reverse_this_string(silly_string)"
   ]
  },
  {
   "cell_type": "code",
   "execution_count": null,
   "metadata": {},
   "outputs": [],
   "source": []
  },
  {
   "cell_type": "markdown",
   "metadata": {},
   "source": [
    "## <span style=\"color:teal\">Pandas</span>"
   ]
  },
  {
   "cell_type": "markdown",
   "metadata": {},
   "source": [
    "### Replacing Bad Data\n",
    "\n",
    "Suppose you are given a dataframe, df, that contains various negative values. In the context of your work, negative values can be considered 'bad data'. Write a function in Python (using Pandas) that replaces these bad values with the group mean."
   ]
  },
  {
   "cell_type": "markdown",
   "metadata": {},
   "source": [
    "Keywords: Python, Pandas, Data Cleaning"
   ]
  },
  {
   "cell_type": "code",
   "execution_count": 42,
   "metadata": {},
   "outputs": [],
   "source": [
    "def bad_data(df):\n",
    "    '''\n",
    "    df : pandas dataframe\n",
    "    cols : list of column names \n",
    "    \n",
    "    '''\n",
    "    df[df < 0] = bad_df[bad_df>0].mean().mean()   \n",
    "    return df.round(2)\n",
    "\n",
    "bad_arr = np.array([[1,3,2,4,1],[-1,3,-4,2,1],[4,1,1,-2,4],[2,3,-5,1,2],[0,3,-2,1,0]])\n",
    "bad_df = pd.DataFrame(bad_arr, columns=['a', 'b', 'c', 'd', 'e'])"
   ]
  },
  {
   "cell_type": "code",
   "execution_count": 43,
   "metadata": {},
   "outputs": [
    {
     "data": {
      "text/html": [
       "<div>\n",
       "<style scoped>\n",
       "    .dataframe tbody tr th:only-of-type {\n",
       "        vertical-align: middle;\n",
       "    }\n",
       "\n",
       "    .dataframe tbody tr th {\n",
       "        vertical-align: top;\n",
       "    }\n",
       "\n",
       "    .dataframe thead th {\n",
       "        text-align: right;\n",
       "    }\n",
       "</style>\n",
       "<table border=\"1\" class=\"dataframe\">\n",
       "  <thead>\n",
       "    <tr style=\"text-align: right;\">\n",
       "      <th></th>\n",
       "      <th>a</th>\n",
       "      <th>b</th>\n",
       "      <th>c</th>\n",
       "      <th>d</th>\n",
       "      <th>e</th>\n",
       "    </tr>\n",
       "  </thead>\n",
       "  <tbody>\n",
       "    <tr>\n",
       "      <th>0</th>\n",
       "      <td>1.00</td>\n",
       "      <td>3</td>\n",
       "      <td>2.00</td>\n",
       "      <td>4.00</td>\n",
       "      <td>1</td>\n",
       "    </tr>\n",
       "    <tr>\n",
       "      <th>1</th>\n",
       "      <td>2.09</td>\n",
       "      <td>3</td>\n",
       "      <td>2.09</td>\n",
       "      <td>2.00</td>\n",
       "      <td>1</td>\n",
       "    </tr>\n",
       "    <tr>\n",
       "      <th>2</th>\n",
       "      <td>4.00</td>\n",
       "      <td>1</td>\n",
       "      <td>1.00</td>\n",
       "      <td>2.09</td>\n",
       "      <td>4</td>\n",
       "    </tr>\n",
       "    <tr>\n",
       "      <th>3</th>\n",
       "      <td>2.00</td>\n",
       "      <td>3</td>\n",
       "      <td>2.09</td>\n",
       "      <td>1.00</td>\n",
       "      <td>2</td>\n",
       "    </tr>\n",
       "    <tr>\n",
       "      <th>4</th>\n",
       "      <td>0.00</td>\n",
       "      <td>3</td>\n",
       "      <td>2.09</td>\n",
       "      <td>1.00</td>\n",
       "      <td>0</td>\n",
       "    </tr>\n",
       "  </tbody>\n",
       "</table>\n",
       "</div>"
      ],
      "text/plain": [
       "      a  b     c     d  e\n",
       "0  1.00  3  2.00  4.00  1\n",
       "1  2.09  3  2.09  2.00  1\n",
       "2  4.00  1  1.00  2.09  4\n",
       "3  2.00  3  2.09  1.00  2\n",
       "4  0.00  3  2.09  1.00  0"
      ]
     },
     "execution_count": 43,
     "metadata": {},
     "output_type": "execute_result"
    }
   ],
   "source": [
    "bad_data(bad_df)"
   ]
  },
  {
   "cell_type": "code",
   "execution_count": 40,
   "metadata": {},
   "outputs": [],
   "source": []
  },
  {
   "cell_type": "markdown",
   "metadata": {},
   "source": []
  },
  {
   "cell_type": "markdown",
   "metadata": {},
   "source": [
    "## <span style=\"color:teal\">SQL</span>"
   ]
  },
  {
   "cell_type": "markdown",
   "metadata": {},
   "source": [
    "Suppose you're given the following table, called 'employees':\n",
    "\n",
    "\n",
    "| Name       |  Job_role                                |\n",
    "|:----------:|:----------------------------------------:|\n",
    "|  John      | Analyst                                  |\n",
    "|  Harry     | Administrative Business Partner          |\n",
    "|  Sam       | Software Engineer                        |\n",
    "|  Tina      | Analyst                                  |\n",
    "\n",
    "\n",
    "\n",
    "To test your SQL skills, create a query that returns the name and job_role of each individual who has either a name that contains the letter 'a' or a job role that ends in the letters 'er'."
   ]
  },
  {
   "cell_type": "code",
   "execution_count": null,
   "metadata": {},
   "outputs": [],
   "source": []
  },
  {
   "cell_type": "markdown",
   "metadata": {},
   "source": [
    "## <span style=\"color:teal\">Math</span>"
   ]
  },
  {
   "cell_type": "code",
   "execution_count": null,
   "metadata": {},
   "outputs": [],
   "source": []
  },
  {
   "cell_type": "code",
   "execution_count": null,
   "metadata": {},
   "outputs": [],
   "source": []
  },
  {
   "cell_type": "code",
   "execution_count": null,
   "metadata": {},
   "outputs": [],
   "source": []
  },
  {
   "cell_type": "code",
   "execution_count": null,
   "metadata": {},
   "outputs": [],
   "source": []
  }
 ],
 "metadata": {
  "kernelspec": {
   "display_name": "Python 3",
   "language": "python",
   "name": "python3"
  },
  "language_info": {
   "codemirror_mode": {
    "name": "ipython",
    "version": 3
   },
   "file_extension": ".py",
   "mimetype": "text/x-python",
   "name": "python",
   "nbconvert_exporter": "python",
   "pygments_lexer": "ipython3",
   "version": "3.7.1"
  }
 },
 "nbformat": 4,
 "nbformat_minor": 2
}
